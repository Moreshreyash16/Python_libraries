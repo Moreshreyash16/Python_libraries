{
 "cells": [
  {
   "attachments": {},
   "cell_type": "markdown",
   "metadata": {},
   "source": [
    "@Title 1 : Write a Python program to convert a list of numeric value into a one-dimensional\n",
    "NumPy array."
   ]
  },
  {
   "cell_type": "code",
   "execution_count": 4,
   "metadata": {},
   "outputs": [],
   "source": [
    "import numpy as np\n",
    "import logging\n",
    "\n",
    "logging.basicConfig(level=logging.INFO, format='%(asctime)s - %(levelname)s - %(message)s',\n",
    "handlers=[\n",
    "        logging.StreamHandler(),  # Stream logs to the console\n",
    "        logging.FileHandler('numpy.log')  # Store logs in a file\n",
    "    ])\n",
    "    # Create a logger\n",
    "logger = logging.getLogger('my_logger')"
   ]
  },
  {
   "cell_type": "code",
   "execution_count": 8,
   "metadata": {},
   "outputs": [],
   "source": [
    "my_arr=list(map(int,input(\"Enter a values in list\").split()))\n",
    "numpy_arr=np.array(my_arr)\n",
    "print(numpy_arr)"
   ]
  },
  {
   "attachments": {},
   "cell_type": "markdown",
   "metadata": {},
   "source": [
    "@Title 2 : Write a Python program to create a 3x3 matrix with values ranging from 2 to 10.\n"
   ]
  },
  {
   "cell_type": "code",
   "execution_count": null,
   "metadata": {},
   "outputs": [],
   "source": [
    "my_arr=np.arange(2,8).reshape(2,3)\n",
    "print(f\"The 2d array is :\\n {my_arr}\")"
   ]
  },
  {
   "attachments": {},
   "cell_type": "markdown",
   "metadata": {},
   "source": [
    "@Title 3 :Write a Python program to create a null vector of size 10 and update sixth value to 11"
   ]
  },
  {
   "cell_type": "code",
   "execution_count": null,
   "metadata": {},
   "outputs": [],
   "source": [
    "my_arr=np.zeros(10)\n",
    "np.insert(my_arr,6,11)"
   ]
  },
  {
   "attachments": {},
   "cell_type": "markdown",
   "metadata": {},
   "source": [
    "@Title 4 : Write a Python program to reverse an array (first element becomes last)."
   ]
  },
  {
   "cell_type": "code",
   "execution_count": 63,
   "metadata": {},
   "outputs": [],
   "source": [
    "my_arr=list(map(int,input(\"Enter a values in list\").split()))\n",
    "my_arr=np.array(my_arr)\n",
    "new_array=np.flip(my_arr)"
   ]
  },
  {
   "attachments": {},
   "cell_type": "markdown",
   "metadata": {},
   "source": [
    "@Title 5 : Write a Python program to create a 2d array with 1 on the border and 0 inside."
   ]
  },
  {
   "cell_type": "code",
   "execution_count": null,
   "metadata": {},
   "outputs": [],
   "source": [
    "my_arr=np.full((8,8),(0))\n",
    "my_arr[1:-1,1:-1]=0\n",
    "print(my_arr)"
   ]
  },
  {
   "attachments": {},
   "cell_type": "markdown",
   "metadata": {},
   "source": [
    "@Title 6: Write a Python program to create a 2d array with 0 on the border and 1 inside."
   ]
  },
  {
   "cell_type": "code",
   "execution_count": 81,
   "metadata": {},
   "outputs": [
    {
     "name": "stdout",
     "output_type": "stream",
     "text": [
      "[[0 0 0 0 0]\n",
      " [0 1 1 1 0]\n",
      " [0 1 1 1 0]\n",
      " [0 1 1 1 0]\n",
      " [0 0 0 0 0]]\n"
     ]
    }
   ],
   "source": [
    "my_arr=np.ones((3,3),dtype=int)\n",
    "new = np.pad(my_arr, pad_width=1, mode='constant', constant_values=0)\n",
    "print(new)"
   ]
  },
  {
   "attachments": {},
   "cell_type": "markdown",
   "metadata": {},
   "source": [
    "@Title 7: Write a Python program to create a 8x8 matrix and fill it with a checkerboard pattern.\n"
   ]
  },
  {
   "cell_type": "code",
   "execution_count": 83,
   "metadata": {},
   "outputs": [
    {
     "name": "stdout",
     "output_type": "stream",
     "text": [
      "[[1 0 1 0 1 0 1 0]\n",
      " [0 1 0 1 0 1 0 1]\n",
      " [1 0 1 0 1 0 1 0]\n",
      " [0 1 0 1 0 1 0 1]\n",
      " [1 0 1 0 1 0 1 0]\n",
      " [0 1 0 1 0 1 0 1]\n",
      " [1 0 1 0 1 0 1 0]\n",
      " [0 1 0 1 0 1 0 1]]\n"
     ]
    }
   ],
   "source": [
    "my_arr=np.ones((8,8),int)\n",
    "my_arr[0:9:2,1:8:2]=0\n",
    "my_arr[1:8:2,0:9:2]=0\n",
    "print(my_arr)"
   ]
  },
  {
   "attachments": {},
   "cell_type": "markdown",
   "metadata": {},
   "source": [
    "@Title 8:Write a Python program to convert a list and tuple into arrays."
   ]
  },
  {
   "cell_type": "code",
   "execution_count": 91,
   "metadata": {},
   "outputs": [
    {
     "name": "stdout",
     "output_type": "stream",
     "text": [
      "[1 2 3 4 5 6]\n",
      "[[ 0 10]\n",
      " [20 30]\n",
      " [40 50]]\n"
     ]
    }
   ],
   "source": [
    "lst=[1,2,3,4,5,6]\n",
    "tupple=[(0,10),(20,30),(40,50)]\n",
    "tuple_arr=np.array(tupple)\n",
    "lst_arr=np.array(lst)\n",
    "print(lst_arr)\n",
    "print(tuple_arr)"
   ]
  },
  {
   "attachments": {},
   "cell_type": "markdown",
   "metadata": {},
   "source": [
    "@Title 9: Write a Python program to append values to the end of an array."
   ]
  },
  {
   "cell_type": "code",
   "execution_count": 45,
   "metadata": {},
   "outputs": [
    {
     "name": "stdout",
     "output_type": "stream",
     "text": [
      "[10 20 30 40 50 60]\n"
     ]
    }
   ],
   "source": [
    "og_list=[10, 20, 30]\n",
    "og_list=np.append(og_list,[40,50,60])\n",
    "print(og_list)"
   ]
  },
  {
   "attachments": {},
   "cell_type": "markdown",
   "metadata": {},
   "source": [
    "@Title 10: Write a Python program to find the real and imaginary parts of an array of complex\n",
    "numbers"
   ]
  },
  {
   "cell_type": "code",
   "execution_count": 53,
   "metadata": {},
   "outputs": [
    {
     "name": "stdout",
     "output_type": "stream",
     "text": [
      "the real part is 1.0\n",
      " the imaginary part is 0.70710678\n"
     ]
    }
   ],
   "source": [
    "equation= np.complex_(1.00000000+0.70710678j)\n",
    "print(f\"the real part is {equation.real}\\n the imaginary part is {equation.imag}\")"
   ]
  },
  {
   "attachments": {},
   "cell_type": "markdown",
   "metadata": {},
   "source": [
    "@Title 11: Write a Python program to find the number of elements of an array, length of one\n",
    "array element in bytes and total bytes consumed by the elements.\n"
   ]
  },
  {
   "cell_type": "code",
   "execution_count": 3,
   "metadata": {},
   "outputs": [
    {
     "name": "stdout",
     "output_type": "stream",
     "text": [
      "The size of array is: 5\n",
      "The size of array in bytes: 4\n",
      "Total bytes consumed by the elements of the array: 20\n"
     ]
    }
   ],
   "source": [
    "new_list=[1,2,3,4,5]\n",
    "new_list=np.array(new_list)\n",
    "print(f\"The size of array is: {new_list.size}\")\n",
    "print(f\"The size of array in bytes: {new_list.itemsize}\")\n",
    "print(f\"Total bytes consumed by the elements of the array: {new_list.nbytes}\")\n"
   ]
  },
  {
   "attachments": {},
   "cell_type": "markdown",
   "metadata": {},
   "source": [
    "@Title 12: Write a Python program to find common values between two arrays\n"
   ]
  },
  {
   "cell_type": "code",
   "execution_count": 93,
   "metadata": {},
   "outputs": [
    {
     "name": "stderr",
     "output_type": "stream",
     "text": [
      "2023-06-26 11:44:03,989 - INFO - Program executed Successfully!!\n"
     ]
    },
    {
     "name": "stdout",
     "output_type": "stream",
     "text": [
      "The common elements between two arrays are [1]\n"
     ]
    }
   ],
   "source": [
    "try:\n",
    "    my_list1=np.array(list(map(int,input(\"Enter a values in list 1\").split())))\n",
    "    my_list2=np.array(list(map(int,input(\"Enter a values in list 2\").split())))\n",
    "    print(f\"The common elements between two arrays are {np.intersect1d(my_list1,my_list2)}\")  \n",
    "    logger.info(\"Program executed Successfully!!\")\n",
    "except Exception as e:\n",
    "    logger.error(e)\n"
   ]
  },
  {
   "attachments": {},
   "cell_type": "markdown",
   "metadata": {},
   "source": [
    "@Title 13: Write a Python program to find set diifrence between two arrays"
   ]
  },
  {
   "cell_type": "code",
   "execution_count": 8,
   "metadata": {},
   "outputs": [
    {
     "name": "stderr",
     "output_type": "stream",
     "text": [
      "2023-06-25 12:42:41,443 - INFO - Program executed Successfully!!\n"
     ]
    },
    {
     "name": "stdout",
     "output_type": "stream",
     "text": [
      "The set diffrence between two arrays are [2 3]\n"
     ]
    }
   ],
   "source": [
    "try:\n",
    "    my_list1=np.array(list(map(int,input(\"Enter a values in list 1\").split())))\n",
    "    my_list2=np.array(list(map(int,input(\"Enter a values in list 2\").split())))\n",
    "    print(f\"The set diffrence between two arrays are {np.setdiff1d(my_list1,my_list2)}\")  \n",
    "    logger.info(\"Program executed Successfully!!\")\n",
    "    \n",
    "except Exception as e:\n",
    "    logger.error(e)\n"
   ]
  },
  {
   "attachments": {},
   "cell_type": "markdown",
   "metadata": {},
   "source": [
    "@Title 14: Write a Python program to find the set exclusive-or of two arrays. Set exclusive-or\n",
    "will return the sorted, unique values that are in only one (not both) of the input arrays"
   ]
  },
  {
   "cell_type": "code",
   "execution_count": 9,
   "metadata": {},
   "outputs": [
    {
     "name": "stderr",
     "output_type": "stream",
     "text": [
      "2023-06-25 12:46:03,785 - INFO - Program executed Successfully!!\n"
     ]
    },
    {
     "name": "stdout",
     "output_type": "stream",
     "text": [
      "The set exclusive between two arrays are [4 5]\n"
     ]
    }
   ],
   "source": [
    "try:\n",
    "    my_list1=np.array(list(map(int,input(\"Enter a values in list 1\").split())))\n",
    "    my_list2=np.array(list(map(int,input(\"Enter a values in list 2\").split())))\n",
    "    print(f\"The set exclusive between two arrays are {np.setxor1d(my_list1,my_list2)}\")  \n",
    "    logger.info(\"Program executed Successfully!!\")\n",
    "\n",
    "except Exception as e:\n",
    "    logger.error(e)\n"
   ]
  },
  {
   "attachments": {},
   "cell_type": "markdown",
   "metadata": {},
   "source": [
    "@Title 15: Write a Python program compare two arrays using numpy"
   ]
  },
  {
   "cell_type": "code",
   "execution_count": 10,
   "metadata": {},
   "outputs": [
    {
     "name": "stderr",
     "output_type": "stream",
     "text": [
      "2023-06-25 12:50:39,155 - INFO - Program executed Successfully!!\n"
     ]
    },
    {
     "name": "stdout",
     "output_type": "stream",
     "text": [
      " greater than : [ True  True]\n",
      " greater than equal to : [ True  True]\n",
      " less than : [False False]\n",
      " less than equal to : [False False]\n"
     ]
    }
   ],
   "source": [
    "try:\n",
    "    my_list1=np.array(list(map(int,input(\"Enter a values in list 1\").split())))\n",
    "    my_list2=np.array(list(map(int,input(\"Enter a values in list 2\").split())))\n",
    "    print(f\" greater than : {np.greater(my_list1,my_list2)}\")\n",
    "    print(f\" greater than equal to : {np.greater_equal(my_list1,my_list2)}\")\n",
    "    print(f\" less than : {np.less(my_list1,my_list2)}\")\n",
    "    print(f\" less than equal to : {np.less_equal(my_list1,my_list2)}\")\n",
    "\n",
    "    logger.info(\"Program executed Successfully!!\")\n",
    "except Exception as e:\n",
    "    logger.error(e)\n"
   ]
  },
  {
   "attachments": {},
   "cell_type": "markdown",
   "metadata": {},
   "source": [
    "@Title 16:Write a Python program to save a NumPy array to a text file.\n"
   ]
  },
  {
   "cell_type": "code",
   "execution_count": 94,
   "metadata": {},
   "outputs": [
    {
     "name": "stderr",
     "output_type": "stream",
     "text": [
      "2023-06-26 11:46:06,755 - INFO - Program executed Successfully!!\n"
     ]
    }
   ],
   "source": [
    "try:\n",
    "    my_list1=np.array(list(map(int,input(\"Enter a values in list 1\").split())))\n",
    "    np.savetxt(\"my_list1.txt\",my_list1,fmt=\"%d\") \n",
    "    logger.info(\"Program executed Successfully!!\")\n",
    "except Exception as e:\n",
    "    logger.error(e)\n"
   ]
  },
  {
   "attachments": {},
   "cell_type": "markdown",
   "metadata": {},
   "source": [
    "@Title 17:Write a Python program to create a contiguous flattened array"
   ]
  },
  {
   "cell_type": "code",
   "execution_count": 20,
   "metadata": {},
   "outputs": [
    {
     "name": "stdout",
     "output_type": "stream",
     "text": [
      "Enter array of 2\n"
     ]
    },
    {
     "name": "stderr",
     "output_type": "stream",
     "text": [
      "2023-06-25 18:50:58,596 - INFO - Program executed Successfully!!\n"
     ]
    },
    {
     "name": "stdout",
     "output_type": "stream",
     "text": [
      "Enter array of 3\n",
      "The contiguous flattened array [1 5 3]\n"
     ]
    }
   ],
   "source": [
    "try:\n",
    "    list1_num=int(input(\"Enter a number of list\"))\n",
    "    og_array=[]\n",
    "    for i in range(list1_num):\n",
    "        my_list=np.array(list(map(int,input(f\"Enter a values in list {i}\").split())))\n",
    "        og_array.append(my_list2)\n",
    "    print(f\"The contiguous flattened array {np.ravel(og_array)}\")  \n",
    "    logger.info(\"Program executed Successfully!!\")\n",
    "except Exception as e:\n",
    "    logger.error(e)"
   ]
  },
  {
   "attachments": {},
   "cell_type": "markdown",
   "metadata": {},
   "source": [
    "@Title 18:Write a Python program to create a 3-D array with ones on a diagonal and zeros\n"
   ]
  },
  {
   "cell_type": "code",
   "execution_count": 22,
   "metadata": {},
   "outputs": [
    {
     "name": "stderr",
     "output_type": "stream",
     "text": [
      "2023-06-25 18:58:48,193 - INFO - Program executed Successfully!!\n"
     ]
    },
    {
     "name": "stdout",
     "output_type": "stream",
     "text": [
      "[[1. 0. 0. 0. 0.]\n",
      " [0. 1. 0. 0. 0.]\n",
      " [0. 0. 1. 0. 0.]\n",
      " [0. 0. 0. 1. 0.]\n",
      " [0. 0. 0. 0. 1.]]\n"
     ]
    }
   ],
   "source": [
    "try:\n",
    "    size=int(input(\"Enter a size of 3d array\"))\n",
    "    new_array=np.eye(size)\n",
    "    print(new_array)  \n",
    "    logger.info(\"Program executed Successfully!!\")  \n",
    "except Exception as e:\n",
    "    logger.error(e)\n"
   ]
  },
  {
   "attachments": {},
   "cell_type": "markdown",
   "metadata": {},
   "source": [
    "@Title 19:Write a Python program to change the data type of an array.\n"
   ]
  },
  {
   "cell_type": "code",
   "execution_count": 58,
   "metadata": {},
   "outputs": [
    {
     "name": "stdout",
     "output_type": "stream",
     "text": [
      "The data type of list is: int32\n",
      "The data type of list is: float64\n"
     ]
    }
   ],
   "source": [
    "my_num=np.array(list(map(int,input(f\"Enter a values in list\").split())))\n",
    "print(f\"The data type of list is: {my_num.dtype}\")\n",
    "my_float=my_num.astype(float)\n",
    "print(f\"The data type of list is: {my_float.dtype}\")"
   ]
  },
  {
   "attachments": {},
   "cell_type": "markdown",
   "metadata": {},
   "source": [
    "@Title 20: Write a Python program to create an array which looks like below array."
   ]
  },
  {
   "cell_type": "code",
   "execution_count": 78,
   "metadata": {},
   "outputs": [
    {
     "name": "stderr",
     "output_type": "stream",
     "text": [
      "2023-06-26 11:28:32,944 - INFO - Program executed Successfully!!\n"
     ]
    },
    {
     "name": "stdout",
     "output_type": "stream",
     "text": [
      "[[0 0 0]\n",
      " [1 0 0]\n",
      " [1 1 0]\n",
      " [1 1 1]]\n"
     ]
    }
   ],
   "source": [
    "try:\n",
    "    size=int(input(\"Enter a size of 3d array\"))\n",
    "    new_array=np.tril([[1,1,1],[1,1,1],[1,1,1],[1,1,1]],-1)\n",
    "    print(new_array)    \n",
    "    logger.info(\"Program executed Successfully!!\")\n",
    "except Exception as e:\n",
    "    logger.error(e)\n"
   ]
  },
  {
   "attachments": {},
   "cell_type": "markdown",
   "metadata": {},
   "source": [
    "@Title 21: Write a Python program to create an array which looks like below array."
   ]
  },
  {
   "cell_type": "code",
   "execution_count": 90,
   "metadata": {},
   "outputs": [
    {
     "name": "stderr",
     "output_type": "stream",
     "text": [
      "2023-06-26 11:34:57,102 - INFO - Program executed Successfully!!\n"
     ]
    },
    {
     "name": "stdout",
     "output_type": "stream",
     "text": [
      "The two list are [[ 0  1  3  0  2  4]\n",
      " [ 5  7  9  6  8 10]]\n"
     ]
    }
   ],
   "source": [
    "try:\n",
    "    my_list1=np.array([[0, 1, 3], [5, 7, 9]])\n",
    "    my_list2=np.array([[0, 2, 4], [6, 8, 10]])\n",
    "    print(f\"The two list are {np.concatenate((my_list1,my_list2),1)}\")  \n",
    "\n",
    "    logger.info(\"Program executed Successfully!!\")\n",
    "except Exception as e:\n",
    "    logger.error(e)\n",
    "\n"
   ]
  },
  {
   "attachments": {},
   "cell_type": "markdown",
   "metadata": {},
   "source": [
    "@Title 22: Write a Python program to make an array immutable (read-only)."
   ]
  },
  {
   "cell_type": "code",
   "execution_count": 49,
   "metadata": {},
   "outputs": [
    {
     "name": "stderr",
     "output_type": "stream",
     "text": [
      "2023-06-25 20:32:45,249 - ERROR - assignment destination is read-only\n"
     ]
    }
   ],
   "source": [
    "try:\n",
    "    my_list1=np.array([0, 1, 3,5, 7, 9])\n",
    "    my_list1.flags.writeable=False\n",
    "    my_list1[0]=5\n",
    "    logger.info(\"Program executed Successfully!!\")\n",
    "except Exception as e:\n",
    "    logger.error(e)"
   ]
  },
  {
   "attachments": {},
   "cell_type": "markdown",
   "metadata": {},
   "source": [
    "@Title 23: Write a Python program to create an array of (3, 4) shape, multiply every element"
   ]
  },
  {
   "cell_type": "code",
   "execution_count": 48,
   "metadata": {},
   "outputs": [
    {
     "name": "stderr",
     "output_type": "stream",
     "text": [
      "2023-06-25 20:32:15,148 - INFO - Program executed Successfully!!\n"
     ]
    },
    {
     "name": "stdout",
     "output_type": "stream",
     "text": [
      "[[ 3  6  9 12]\n",
      " [15 18 21 24]\n",
      " [27 30 33 36]]\n"
     ]
    }
   ],
   "source": [
    "try:\n",
    "    my_list=np.array(np.arange(1,13).reshape(3,4))\n",
    "    my_list=my_list*3\n",
    "    print(my_list)\n",
    "    logger.info(\"Program executed Successfully!!\")\n",
    "except Exception as e:\n",
    "    logger.error(e)"
   ]
  },
  {
   "attachments": {},
   "cell_type": "markdown",
   "metadata": {},
   "source": [
    "@Title 24: Write a Python program to convert a NumPy array into Python list structure."
   ]
  },
  {
   "cell_type": "code",
   "execution_count": 50,
   "metadata": {},
   "outputs": [
    {
     "name": "stderr",
     "output_type": "stream",
     "text": [
      "2023-06-25 20:37:54,309 - INFO - Program executed Successfully!!\n"
     ]
    },
    {
     "name": "stdout",
     "output_type": "stream",
     "text": [
      "[0, 1, 3, 5, 7, 9]\n"
     ]
    }
   ],
   "source": [
    "try:\n",
    "    my_array=np.array([0, 1, 3,5, 7, 9])\n",
    "    new_list=my_array.tolist()\n",
    "    print(new_list)\n",
    "    logger.info(\"Program executed Successfully!!\")\n",
    "except Exception as e:\n",
    "    logger.error(e)"
   ]
  },
  {
   "attachments": {},
   "cell_type": "markdown",
   "metadata": {},
   "source": [
    "@Title 25: Write a Python program to convert a NumPy array into Python list structure.\n",
    "            Print array values with precision 3"
   ]
  },
  {
   "cell_type": "code",
   "execution_count": 52,
   "metadata": {},
   "outputs": [
    {
     "name": "stderr",
     "output_type": "stream",
     "text": [
      "2023-06-25 20:42:14,470 - INFO - Program executed Successfully!!\n"
     ]
    },
    {
     "name": "stdout",
     "output_type": "stream",
     "text": [
      "[0.262, 0.528, 0.572, 0.593, 0.783, 0.697, 0.354, 0.995, 0.069, 0.547]\n"
     ]
    }
   ],
   "source": [
    "try:\n",
    "    my_array=np.array([ 0.26153123, 0.52760141 ,0.5718299, 0.5927067, 0.7831874, 0.69746349,0.35399976 ,0.99469633, 0.0694458 ,0.54711478])\n",
    "    precesion=3\n",
    "    my_array=np.around(my_array,decimals=precesion)\n",
    "    new_list=my_array.tolist()\n",
    "    print(new_list)\n",
    "    logger.info(\"Program executed Successfully!!\")\n",
    "except Exception as e:\n",
    "    logger.error(e)"
   ]
  },
  {
   "attachments": {},
   "cell_type": "markdown",
   "metadata": {},
   "source": [
    "@Title 26: Write a Python program to suppresses the use of scientific notation for small\n",
    "numbers in numpy array"
   ]
  },
  {
   "cell_type": "code",
   "execution_count": 53,
   "metadata": {},
   "outputs": [
    {
     "name": "stderr",
     "output_type": "stream",
     "text": [
      "2023-06-25 20:45:17,225 - INFO - Program executed Successfully!!\n"
     ]
    },
    {
     "name": "stdout",
     "output_type": "stream",
     "text": [
      "[0.000 1.600 1200.000 0.235]\n"
     ]
    }
   ],
   "source": [
    "try:\n",
    "    my_array = np.array([1.60000000e-10, 1.60000000e+00, 1.20000000e+03, 2.35000000e-01])\n",
    "    np.set_printoptions(formatter={'float': '{:0.3f}'.format})\n",
    "    print(my_array)\n",
    "    logger.info(\"Program executed Successfully!!\")\n",
    "except Exception as e:\n",
    "    logger.error(e)"
   ]
  },
  {
   "attachments": {},
   "cell_type": "markdown",
   "metadata": {},
   "source": [
    "@Title 27: Write a Python program to how to add an extra column to an numpy array"
   ]
  },
  {
   "cell_type": "code",
   "execution_count": 112,
   "metadata": {},
   "outputs": [
    {
     "name": "stdout",
     "output_type": "stream",
     "text": [
      "[[ 10  20  30 100]\n",
      " [ 40  50  60 200]]\n"
     ]
    }
   ],
   "source": [
    "x = np.array([[10,20,30], [40,50,60]])\n",
    "y = np.array([[100], [200]])\n",
    "print(np.append(x, y, axis=1))"
   ]
  },
  {
   "attachments": {},
   "cell_type": "markdown",
   "metadata": {},
   "source": [
    "@Title 28:  Write a Python program to remove specific elements in a numpy arr"
   ]
  },
  {
   "cell_type": "code",
   "execution_count": 95,
   "metadata": {},
   "outputs": [
    {
     "name": "stderr",
     "output_type": "stream",
     "text": [
      "2023-06-26 11:52:25,202 - INFO - Program executed Successfully!!\n"
     ]
    },
    {
     "name": "stdout",
     "output_type": "stream",
     "text": [
      "[0 3 5 7 9]\n"
     ]
    }
   ],
   "source": [
    "\n",
    "my_array=np.array([0, 1, 3, 5, 7, 9])\n",
    "try:\n",
    "    element_index=list(map(int,input(\"Enter a index \").split()))\n",
    "    for i in element_index:\n",
    "        if i<len(my_array):\n",
    "            my_array = np.delete(my_array,i)\n",
    "        else:\n",
    "            print(f\"Index {i} is out of bond\")\n",
    "    print(my_array)\n",
    "    logger.info(\"Program executed Successfully!!\")\n",
    "except Exception as e:\n",
    "        logger.error(e)\n"
   ]
  },
  {
   "cell_type": "code",
   "execution_count": null,
   "metadata": {},
   "outputs": [],
   "source": []
  }
 ],
 "metadata": {
  "kernelspec": {
   "display_name": "Python 3",
   "language": "python",
   "name": "python3"
  },
  "language_info": {
   "codemirror_mode": {
    "name": "ipython",
    "version": 3
   },
   "file_extension": ".py",
   "mimetype": "text/x-python",
   "name": "python",
   "nbconvert_exporter": "python",
   "pygments_lexer": "ipython3",
   "version": "3.10.7"
  },
  "orig_nbformat": 4
 },
 "nbformat": 4,
 "nbformat_minor": 2
}
